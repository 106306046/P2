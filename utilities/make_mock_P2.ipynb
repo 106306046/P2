{
 "cells": [
  {
   "cell_type": "code",
   "execution_count": 2,
   "id": "219092ce-b6c4-485e-9b1a-cd0d2a42a81f",
   "metadata": {},
   "outputs": [],
   "source": [
    "#基本函數\n",
    "import numpy as np\n",
    "import scipy\n",
    "import matplotlib.pyplot as plt\n",
    "\n",
    "#讀取資料\n",
    "import mne\n",
    "import pyxdf\n",
    "from mnelab.io import read_raw\n",
    "\n",
    "#filter-bank CSP演算法相關\n",
    "from mne.decoding import CSP\n",
    "from sklearn.pipeline import Pipeline\n",
    "from sklearn.svm import SVC\n",
    "from sklearn.model_selection import StratifiedShuffleSplit, cross_val_score\n",
    "\n",
    "#deep-learning model相關\n",
    "import random\n",
    "from keras.models import Sequential\n",
    "from keras.layers import Conv2D, Conv3D, MaxPooling3D, Flatten, Dense, Activation, Dropout\n",
    "from keras.regularizers import l2\n",
    "import tensorflow as tf\n",
    "\n",
    "#繪圖相關\n",
    "import seaborn as sns\n",
    "import matplotlib.pyplot as plt\n",
    "from sklearn.metrics import confusion_matrix\n",
    "\n",
    "#記錄計算時間，儲存模型\n",
    "import time\n",
    "from datetime import datetime\n",
    "import pickle\n",
    "\n",
    "#固定隨機種子\n",
    "random.seed(10)"
   ]
  },
  {
   "cell_type": "code",
   "execution_count": 3,
   "id": "74530093-14cc-467b-9028-3020872b543b",
   "metadata": {},
   "outputs": [
    {
     "name": "stderr",
     "output_type": "stream",
     "text": [
      "Stream 3: Calculated effective sampling rate 94.1184 Hz is different from specified rate 125.0000 Hz.\n",
      "Stream 3: Calculated effective sampling rate 94.1184 Hz is different from specified rate 125.0000 Hz.\n"
     ]
    },
    {
     "name": "stdout",
     "output_type": "stream",
     "text": [
      "Creating RawArray with float64 data, n_channels=16, n_times=220377\n",
      "    Range : 0 ... 220376 =      0.000 ...  1763.008 secs\n",
      "Ready.\n",
      "Used Annotations descriptions: ['BH', 'EOG-close begin', 'EOG-close end', 'EOG-close trial', 'EOG-open begin', 'EOG-open end', 'EOG-open trial', 'F', 'LH', 'RH', 'SESSION-begin', 'SSVEP_10.0', 'SSVEP_4.3', 'SSVEP_6.0', 'SSVEP_7.6', 'Warm-up trial-SSVEP', 'Warm-up trial-begin', 'Warm-up trial-end', 'Warm-up-begin', 'Warm-up-end', 'Warm-upBH', 'Warm-upF', 'Warm-upLH', 'Warm-upRH', 'calib-begin', 'calib-end', 'idle', 'trial-begin', 'trial-end']\n"
     ]
    },
    {
     "name": "stderr",
     "output_type": "stream",
     "text": [
      "/var/folders/k_/m6hrxyv11xlfgj_0mzzyg_sc0000gp/T/ipykernel_2831/1946301989.py:14: RuntimeWarning: The unit for channel(s) obci_eeg2_0, obci_eeg2_1, obci_eeg2_10, obci_eeg2_11, obci_eeg2_12, obci_eeg2_13, obci_eeg2_14, obci_eeg2_15, obci_eeg2_2, obci_eeg2_3, obci_eeg2_4, obci_eeg2_5, obci_eeg2_6, obci_eeg2_7, obci_eeg2_8, obci_eeg2_9 has changed from NA to V.\n",
      "  raw_ori.set_channel_types({used_eeg + '_0':'eeg', used_eeg + '_1':'eeg',\n"
     ]
    }
   ],
   "source": [
    "fname = \"/Users/alkalisk/Downloads/Recording/tsun_1228.xdf\"\n",
    "\n",
    "#決定要用哪一組steam\n",
    "#1 means unfilter, 2 uses filter by OPENBCI GUI, 3 is aux\n",
    "used_eeg = 'obci_eeg2'\n",
    "\n",
    "streams, header = pyxdf.load_xdf(fname)\n",
    "for i in streams:\n",
    "    if i['info']['name'][0] == used_eeg:\n",
    "        eeg_id = i['info']['stream_id']\n",
    "        break\n",
    "\n",
    "raw_ori = read_raw(fname, stream_ids=[eeg_id], fs_new=125)\n",
    "raw_ori.set_channel_types({used_eeg + '_0':'eeg', used_eeg + '_1':'eeg',\n",
    "                           used_eeg + '_2':'eeg', used_eeg + '_3':'eeg',\n",
    "                           used_eeg + '_4':'eeg', used_eeg + '_5':'eeg',\n",
    "                           used_eeg + '_6':'eeg', used_eeg + '_7':'eeg',\n",
    "                           used_eeg + '_8':'eeg', used_eeg + '_9':'eeg',\n",
    "                           used_eeg + '_10':'eeg',used_eeg + '_11':'eeg',\n",
    "                           used_eeg + '_12':'eeg',used_eeg + '_13':'eeg',\n",
    "                           used_eeg + '_14':'eeg',used_eeg + '_15':'eeg'})\n",
    "#for data after 1207\n",
    "raw_ori.rename_channels({used_eeg + '_0':'0',  used_eeg + '_1':'1',\n",
    "                         used_eeg + '_2':'2', used_eeg + '_3':'3',\n",
    "                         used_eeg + '_4':'4',  used_eeg + '_5':'5',\n",
    "                         used_eeg + '_6':'6',  used_eeg + '_7':'7',\n",
    "                         used_eeg + '_8':'8',  used_eeg + '_9':'9',\n",
    "                         used_eeg + '_10':'10', used_eeg + '_11':'11',\n",
    "                         used_eeg + '_12':'12', used_eeg + '_13':'13',\n",
    "                         used_eeg + '_14':'14',used_eeg + '_15':'15'})\n",
    "\n",
    "raw = raw_ori.copy()\n",
    "events,all_events_id=mne.events_from_annotations(raw,event_id='auto')"
   ]
  },
  {
   "cell_type": "code",
   "execution_count": 4,
   "id": "964f52af-bb83-4559-b17f-1cf62c564566",
   "metadata": {},
   "outputs": [],
   "source": [
    "#建立所需的event的dict與反轉dict\n",
    "event_dict = {'BH': all_events_id['BH'], 'F':  all_events_id['F'],\n",
    "              'LH': all_events_id['LH'], 'RH': all_events_id['RH'],\n",
    "              'idle': all_events_id['idle'],\n",
    "              'SSVEP_6': all_events_id['SSVEP_6.0'],\n",
    "              'SSVEP_4.3': all_events_id['SSVEP_4.3'],\n",
    "              'SSVEP_7.6': all_events_id['SSVEP_7.6'],\n",
    "              'SSVEP_10': all_events_id['SSVEP_10.0']}\n",
    "rev_event_dict = {v: k for k, v in event_dict.items()}\n",
    "\n",
    "#建立new_events:重新調整label，將目標label重新指定為0~8，其餘非目標event數值全+1000區隔\n",
    "new_events = events.copy()\n",
    "new_event_dict = {'BH': 0, 'F':  1, 'LH': 2, 'RH': 3,\n",
    "                  'idle': 4,\n",
    "                  'SSVEP_6': 5,\n",
    "                  'SSVEP_4.3': 6,\n",
    "                  'SSVEP_7.6': 7,\n",
    "                  'SSVEP_10': 8}\n",
    "\n",
    "for event in new_events:\n",
    "  if event[2] in rev_event_dict:\n",
    "    event[2] = new_event_dict[rev_event_dict[event[2]]]\n",
    "  else:\n",
    "    event[2] += 1000"
   ]
  },
  {
   "cell_type": "code",
   "execution_count": 50,
   "id": "e89eccd9-354d-4604-8e55-c562198cc2bb",
   "metadata": {},
   "outputs": [
    {
     "name": "stdout",
     "output_type": "stream",
     "text": [
      "Not setting metadata\n",
      "240 matching events found\n",
      "No baseline correction applied\n",
      "0 projection items activated\n",
      "Using data from preloaded Raw for 240 events and 313 original time points ...\n",
      "0 bad epochs dropped\n"
     ]
    }
   ],
   "source": [
    "picks = mne.pick_types(raw.info, eeg=True, stim=False, eog=False, exclude=\"bads\")\n",
    "\n",
    "epochs = mne.Epochs(\n",
    "    raw,\n",
    "    new_events,\n",
    "    event_id = new_event_dict,\n",
    "    tmin = 0.3,\n",
    "    tmax = 2.8,\n",
    "    picks = picks,\n",
    "    baseline = None,\n",
    "    preload = True\n",
    ")"
   ]
  },
  {
   "cell_type": "code",
   "execution_count": 53,
   "id": "8655b467-6860-4f98-b3a4-45ffe2e68564",
   "metadata": {},
   "outputs": [
    {
     "name": "stdout",
     "output_type": "stream",
     "text": [
      "Creating RawArray with float64 data, n_channels=16, n_times=313\n",
      "    Range : 0 ... 312 =      0.000 ...     2.496 secs\n",
      "Ready.\n",
      "Creating RawArray with float64 data, n_channels=16, n_times=313\n",
      "    Range : 0 ... 312 =      0.000 ...     2.496 secs\n",
      "Ready.\n",
      "Creating RawArray with float64 data, n_channels=16, n_times=313\n",
      "    Range : 0 ... 312 =      0.000 ...     2.496 secs\n",
      "Ready.\n",
      "Creating RawArray with float64 data, n_channels=16, n_times=313\n",
      "    Range : 0 ... 312 =      0.000 ...     2.496 secs\n",
      "Ready.\n",
      "Creating RawArray with float64 data, n_channels=16, n_times=313\n",
      "    Range : 0 ... 312 =      0.000 ...     2.496 secs\n",
      "Ready.\n",
      "Creating RawArray with float64 data, n_channels=16, n_times=313\n",
      "    Range : 0 ... 312 =      0.000 ...     2.496 secs\n",
      "Ready.\n",
      "Creating RawArray with float64 data, n_channels=16, n_times=313\n",
      "    Range : 0 ... 312 =      0.000 ...     2.496 secs\n",
      "Ready.\n",
      "Creating RawArray with float64 data, n_channels=16, n_times=313\n",
      "    Range : 0 ... 312 =      0.000 ...     2.496 secs\n",
      "Ready.\n",
      "Creating RawArray with float64 data, n_channels=16, n_times=313\n",
      "    Range : 0 ... 312 =      0.000 ...     2.496 secs\n",
      "Ready.\n",
      "Creating RawArray with float64 data, n_channels=16, n_times=313\n",
      "    Range : 0 ... 312 =      0.000 ...     2.496 secs\n",
      "Ready.\n",
      "Creating RawArray with float64 data, n_channels=16, n_times=313\n",
      "    Range : 0 ... 312 =      0.000 ...     2.496 secs\n",
      "Ready.\n",
      "Creating RawArray with float64 data, n_channels=16, n_times=313\n",
      "    Range : 0 ... 312 =      0.000 ...     2.496 secs\n",
      "Ready.\n",
      "Creating RawArray with float64 data, n_channels=16, n_times=313\n",
      "    Range : 0 ... 312 =      0.000 ...     2.496 secs\n",
      "Ready.\n",
      "Creating RawArray with float64 data, n_channels=16, n_times=313\n",
      "    Range : 0 ... 312 =      0.000 ...     2.496 secs\n",
      "Ready.\n",
      "Creating RawArray with float64 data, n_channels=16, n_times=313\n",
      "    Range : 0 ... 312 =      0.000 ...     2.496 secs\n",
      "Ready.\n",
      "Creating RawArray with float64 data, n_channels=16, n_times=313\n",
      "    Range : 0 ... 312 =      0.000 ...     2.496 secs\n",
      "Ready.\n",
      "Creating RawArray with float64 data, n_channels=16, n_times=313\n",
      "    Range : 0 ... 312 =      0.000 ...     2.496 secs\n",
      "Ready.\n",
      "Creating RawArray with float64 data, n_channels=16, n_times=313\n",
      "    Range : 0 ... 312 =      0.000 ...     2.496 secs\n",
      "Ready.\n"
     ]
    }
   ],
   "source": [
    "order_list = ['SSVEP_10',\n",
    "              'RH','RH','RH','RH','RH',\n",
    "              'idle','idle',\n",
    "              'SSVEP_6',\n",
    "              'F','F','F','F','F',\n",
    "              'idle','idle',\n",
    "              'SSVEP_6',\n",
    "             ]\n",
    "\n",
    "rs = random.sample(range(0,len(epochs['idle'])), 1)\n",
    "new_data = epochs['idle'][rs].get_data(copy=True)[0]\n",
    "mock_raw = mne.io.RawArray(new_data, epochs.info)\n",
    "\n",
    "for order in order_list:\n",
    "    rs = random.sample(range(0,len(epochs[order])), 1)\n",
    "    new_data = epochs[order][rs].get_data(copy=True)[0]\n",
    "    simulated_raw = mne.io.RawArray(new_data, epochs.info)\n",
    "    mne.concatenate_raws([mock_raw,simulated_raw])\n",
    "    "
   ]
  },
  {
   "cell_type": "code",
   "execution_count": 56,
   "id": "0674b312-eda4-48c8-a216-9dfb5ba902ea",
   "metadata": {},
   "outputs": [
    {
     "name": "stdout",
     "output_type": "stream",
     "text": [
      "Overwriting existing file.\n",
      "Writing /Users/alkalisk/PycharmProjects/BrainPainter/demo/P2_20240103/test/test_mock_lsl.fif\n",
      "Closing /Users/alkalisk/PycharmProjects/BrainPainter/demo/P2_20240103/test/test_mock_lsl.fif\n",
      "[done]\n"
     ]
    },
    {
     "name": "stderr",
     "output_type": "stream",
     "text": [
      "/var/folders/k_/m6hrxyv11xlfgj_0mzzyg_sc0000gp/T/ipykernel_2831/3037271214.py:1: RuntimeWarning: This filename (/Users/alkalisk/PycharmProjects/BrainPainter/demo/P2_20240103/test/test_mock_lsl.fif) does not conform to MNE naming conventions. All raw files should end with raw.fif, raw_sss.fif, raw_tsss.fif, _meg.fif, _eeg.fif, _ieeg.fif, raw.fif.gz, raw_sss.fif.gz, raw_tsss.fif.gz, _meg.fif.gz, _eeg.fif.gz or _ieeg.fif.gz\n",
      "  mock_raw.save(\"test_mock_lsl.fif\",overwrite=True)\n"
     ]
    }
   ],
   "source": [
    "mock_raw.save(\"test_mock_lsl.fif\",overwrite=True)"
   ]
  },
  {
   "cell_type": "code",
   "execution_count": 57,
   "id": "a6f7b4b3-b988-4df1-8090-b33e7fad0b36",
   "metadata": {},
   "outputs": [
    {
     "data": {
      "text/html": [
       "<details open>\n",
       "    <summary><strong>General</strong></summary>\n",
       "    <table class=\"table table-hover table-striped table-sm table-responsive small\">\n",
       "        <tr>\n",
       "            <th>Measurement date</th>\n",
       "            \n",
       "            <td>Unknown</td>\n",
       "            \n",
       "        </tr>\n",
       "        <tr>\n",
       "            <th>Experimenter</th>\n",
       "            \n",
       "            <td>Unknown</td>\n",
       "            \n",
       "        </tr>\n",
       "        <tr>\n",
       "            <th>Participant</th>\n",
       "            \n",
       "            <td>Unknown</td>\n",
       "            \n",
       "        </tr>\n",
       "    </table>\n",
       "    </details>\n",
       "    <details open>\n",
       "        <summary><strong>Channels</strong></summary>\n",
       "        <table class=\"table table-hover table-striped table-sm table-responsive small\">\n",
       "            <tr>\n",
       "                <th>Digitized points</th>\n",
       "                \n",
       "                <td>Not available</td>\n",
       "                \n",
       "            </tr>\n",
       "            <tr>\n",
       "                <th>Good channels</th>\n",
       "                <td>16 EEG</td>\n",
       "            </tr>\n",
       "            <tr>\n",
       "                <th>Bad channels</th>\n",
       "                <td>None</td>\n",
       "            </tr>\n",
       "            <tr>\n",
       "                <th>EOG channels</th>\n",
       "                <td>Not available</td>\n",
       "            </tr>\n",
       "            <tr>\n",
       "                <th>ECG channels</th>\n",
       "                <td>Not available</td>\n",
       "            </tr>\n",
       "        </table>\n",
       "        </details>\n",
       "        <details open>\n",
       "            <summary><strong>Data</strong></summary>\n",
       "            <table class=\"table table-hover table-striped table-sm table-responsive small\">\n",
       "                \n",
       "                <tr>\n",
       "                    <th>Sampling frequency</th>\n",
       "                    <td>125.00 Hz</td>\n",
       "                </tr>\n",
       "                \n",
       "                \n",
       "                <tr>\n",
       "                    <th>Highpass</th>\n",
       "                    <td>0.00 Hz</td>\n",
       "                </tr>\n",
       "                \n",
       "                \n",
       "                <tr>\n",
       "                    <th>Lowpass</th>\n",
       "                    <td>62.50 Hz</td>\n",
       "                </tr>\n",
       "                \n",
       "                \n",
       "                \n",
       "                \n",
       "                <tr>\n",
       "                    <th>Duration</th>\n",
       "                    <td>00:00:46 (HH:MM:SS)</td>\n",
       "                </tr>\n",
       "                \n",
       "            </table>\n",
       "            </details>"
      ],
      "text/plain": [
       "<RawArray | 16 x 5634 (45.1 s), ~724 kB, data loaded>"
      ]
     },
     "execution_count": 57,
     "metadata": {},
     "output_type": "execute_result"
    }
   ],
   "source": [
    "mock_raw"
   ]
  },
  {
   "cell_type": "code",
   "execution_count": null,
   "id": "c78eb6ce-52eb-439f-8b80-0e74d05fd773",
   "metadata": {},
   "outputs": [],
   "source": []
  }
 ],
 "metadata": {
  "kernelspec": {
   "display_name": "Python 3 (ipykernel)",
   "language": "python",
   "name": "python3"
  },
  "language_info": {
   "codemirror_mode": {
    "name": "ipython",
    "version": 3
   },
   "file_extension": ".py",
   "mimetype": "text/x-python",
   "name": "python",
   "nbconvert_exporter": "python",
   "pygments_lexer": "ipython3",
   "version": "3.10.13"
  }
 },
 "nbformat": 4,
 "nbformat_minor": 5
}
